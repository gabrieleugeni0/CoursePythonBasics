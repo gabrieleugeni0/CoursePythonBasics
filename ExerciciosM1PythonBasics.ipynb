{
 "cells": [
  {
   "cell_type": "code",
   "execution_count": 1,
   "id": "45935722",
   "metadata": {},
   "outputs": [
    {
     "name": "stdout",
     "output_type": "stream",
     "text": [
      "Digite um valor: R$100\n",
      "O novo valor, reduzido em 15% e: R$85.0\n"
     ]
    }
   ],
   "source": [
    "valor = float(input('Digite um valor: R$'))\n",
    "print(f'O novo valor, reduzido em 15% e: R${valor * 0.85:.2f}')"
   ]
  },
  {
   "cell_type": "code",
   "execution_count": 2,
   "id": "86f403d0",
   "metadata": {},
   "outputs": [
    {
     "name": "stdout",
     "output_type": "stream",
     "text": [
      "Digite sua idade: -1\n",
      "ERRO! IDADE INVALIDA\n",
      "Digite sua idade: 151\n",
      "ERRO! IDADE INVALIDA\n",
      "Digite sua idade: 24\n",
      "Digite seu salario: R$-1\n",
      "ERRO! SALARIO NEGATIVO\n",
      "Digite seu salario: R$5000\n",
      "Digite seu sexo: [M/F/OUTRO]a\n",
      "ERRO! SEXO INVALIDO\n",
      "Digite seu sexo: [M/F/OUTRO]1\n",
      "ERRO! SEXO INVALIDO\n",
      "Digite seu sexo: [M/F/OUTRO]outro\n",
      "Voce tem 24 anos de idade, seu salario e de R$5000.00 e seu sexo e OUTRO!\n"
     ]
    }
   ],
   "source": [
    "while True:\n",
    "    idade = int(input('Digite sua idade: '))\n",
    "    if 0 <= idade <= 150:\n",
    "        break\n",
    "    else:\n",
    "        print('ERRO! IDADE INVALIDA')\n",
    "while True:\n",
    "    salario = float(input('Digite seu salario: R$'))\n",
    "    if salario >= 0:\n",
    "        break\n",
    "    else:\n",
    "        print('ERRO! SALARIO NEGATIVO')\n",
    "while True:\n",
    "    sexo = str(input('Digite seu sexo: [M/F/OUTRO]')).strip().upper()\n",
    "    if sexo in 'MFOUTRO':\n",
    "        break\n",
    "    else:\n",
    "        print('ERRO! SEXO INVALIDO')\n",
    "print(f'Voce tem {idade} anos de idade, seu salario e de R${salario:.2f} e seu sexo e {sexo}!')"
   ]
  },
  {
   "cell_type": "code",
   "execution_count": 6,
   "id": "54d060d7",
   "metadata": {},
   "outputs": [
    {
     "name": "stdout",
     "output_type": "stream",
     "text": [
      "Mora perto da vitima? [S/N] s\n",
      "Ja trabalhou com a vitima? [S/N] 1\n",
      "OPCAO INVALIDA!\n",
      "Ja trabalhou com a vitima? [S/N] n\n",
      "Telefonou para a vitima? [S/N] n\n",
      "Esteve no local do crime? [S/N] n\n",
      "Devia para a vitima? [S/N] s\n",
      "Com 2pontos voce e suspeito e sera necessario investigarmos mais!\n"
     ]
    }
   ],
   "source": [
    "pontos = 0\n",
    "while True:\n",
    "    a = str(input('Mora perto da vitima? [S/N] ')).strip().upper()[0]\n",
    "    if a == 'S':\n",
    "        pontos += 1\n",
    "    if a in 'SN':\n",
    "        break\n",
    "    else:\n",
    "        print('OPCAO INVALIDA!')\n",
    "while True:\n",
    "    b = str(input('Ja trabalhou com a vitima? [S/N] ')).strip().upper()[0]\n",
    "    if b == 'S':\n",
    "        pontos += 1\n",
    "    if b in 'SN':\n",
    "        break\n",
    "    else:\n",
    "        print('OPCAO INVALIDA!')\n",
    "while True:\n",
    "    c = str(input('Telefonou para a vitima? [S/N] ')).strip().upper()[0]\n",
    "    if c == 'S':\n",
    "        pontos += 1\n",
    "    if c in 'SN':\n",
    "        break\n",
    "    else:\n",
    "        print('OPCAO INVALIDA!')\n",
    "while True:\n",
    "    d = str(input('Esteve no local do crime? [S/N] ')).strip().upper()[0]\n",
    "    if d == 'S':\n",
    "        pontos += 1\n",
    "    if d in 'SN':\n",
    "        break  \n",
    "    else:\n",
    "        print('OPCAO INVALIDA!')\n",
    "while True:\n",
    "    e = str(input('Devia para a vitima? [S/N] ')).strip().upper()[0]\n",
    "    if e == 'S':\n",
    "        pontos += 1\n",
    "    if e in 'SN':\n",
    "        break\n",
    "    else:\n",
    "        print('OPCAO INVALIDA!')\n",
    "if pontos <= 1:\n",
    "    print(f'Com {pontos} pontos voce nao e suspeito. Esta liberado!')\n",
    "elif pontos == 2:\n",
    "    print(f'Com {pontos} pontos voce e suspeito e sera necessario investigarmos mais!')\n",
    "elif pontos <= 4: \n",
    "    print(f'Com {pontos} pontos voce e considerado cumplice do crime e esta preso!')\n",
    "else:\n",
    "    print(f'Com {pontos} pontos voce e o assassino. Esta preso agora mesmo!')\n"
   ]
  },
  {
   "cell_type": "code",
   "execution_count": 7,
   "id": "1357318f",
   "metadata": {},
   "outputs": [
    {
     "name": "stdout",
     "output_type": "stream",
     "text": [
      "9 x 1 = 9\n",
      "9 x 2 = 18\n",
      "9 x 3 = 27\n",
      "9 x 4 = 36\n",
      "9 x 5 = 45\n",
      "9 x 6 = 54\n",
      "9 x 7 = 63\n",
      "9 x 8 = 72\n",
      "9 x 9 = 81\n",
      "9 x 10 = 90\n"
     ]
    }
   ],
   "source": [
    "for c in range(1, 11, 1):\n",
    "    print(f'9 x {c} = {9 * c}')"
   ]
  },
  {
   "cell_type": "code",
   "execution_count": null,
   "id": "3af05ed6",
   "metadata": {},
   "outputs": [],
   "source": []
  }
 ],
 "metadata": {
  "kernelspec": {
   "display_name": "Python 3 (ipykernel)",
   "language": "python",
   "name": "python3"
  },
  "language_info": {
   "codemirror_mode": {
    "name": "ipython",
    "version": 3
   },
   "file_extension": ".py",
   "mimetype": "text/x-python",
   "name": "python",
   "nbconvert_exporter": "python",
   "pygments_lexer": "ipython3",
   "version": "3.10.5"
  }
 },
 "nbformat": 4,
 "nbformat_minor": 5
}
