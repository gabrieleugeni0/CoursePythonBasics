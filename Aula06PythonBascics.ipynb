{
 "cells": [
  {
   "cell_type": "code",
   "execution_count": 3,
   "id": "4e832918",
   "metadata": {
    "scrolled": true
   },
   "outputs": [
    {
     "name": "stdout",
     "output_type": "stream",
     "text": [
      "Qual o valor da corrida? 35\n",
      "E mais viavel pegar o onibus!\n"
     ]
    }
   ],
   "source": [
    "valor_passagem = 4.30\n",
    "valor_corrida = float(input('Qual o valor da corrida? '))\n",
    "if valor_corrida <= (valor_passagem * 5):\n",
    "    print('E mais viavel pegar a corrida!')\n",
    "else:\n",
    "    print('E mais viavel pegar o onibus!')"
   ]
  },
  {
   "cell_type": "code",
   "execution_count": 4,
   "id": "7c502dfd",
   "metadata": {},
   "outputs": [
    {
     "name": "stdout",
     "output_type": "stream",
     "text": [
      "Qual o valor da corrida? 17\n",
      "E mais viavel pegar a corrida!\n"
     ]
    }
   ],
   "source": [
    "valor_passagem = 4.30\n",
    "valor_corrida = float(input('Qual o valor da corrida? '))\n",
    "if valor_corrida <= (valor_passagem * 5):\n",
    "    print('E mais viavel pegar a corrida!')\n",
    "else:\n",
    "    print('E mais viavel pegar o onibus!')"
   ]
  },
  {
   "cell_type": "code",
   "execution_count": 9,
   "id": "ae234026",
   "metadata": {},
   "outputs": [
    {
     "name": "stdout",
     "output_type": "stream",
     "text": [
      "Qual o valor da corrida? 17\n",
      "E mais viavel pegar a corrida!\n"
     ]
    }
   ],
   "source": [
    "valor_passagem = 4.30\n",
    "valor_corrida = float(input('Qual o valor da corrida? '))\n",
    "if valor_corrida <= (valor_passagem * 5):\n",
    "    print('E mais viavel pegar a corrida!')\n",
    "elif valor_corrida <= (valor_passagem * 6):\n",
    "    print('Aguarde um pouco, para que a corrida fique mais barata!')\n",
    "else:\n",
    "    print('E mais viavel pegar o onibus!')"
   ]
  },
  {
   "cell_type": "code",
   "execution_count": null,
   "id": "9cc1dc59",
   "metadata": {},
   "outputs": [],
   "source": []
  }
 ],
 "metadata": {
  "kernelspec": {
   "display_name": "Python 3 (ipykernel)",
   "language": "python",
   "name": "python3"
  },
  "language_info": {
   "codemirror_mode": {
    "name": "ipython",
    "version": 3
   },
   "file_extension": ".py",
   "mimetype": "text/x-python",
   "name": "python",
   "nbconvert_exporter": "python",
   "pygments_lexer": "ipython3",
   "version": "3.10.5"
  }
 },
 "nbformat": 4,
 "nbformat_minor": 5
}
