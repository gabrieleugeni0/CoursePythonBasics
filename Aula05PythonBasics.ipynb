{
 "cells": [
  {
   "cell_type": "code",
   "execution_count": 1,
   "id": "080b8ebf",
   "metadata": {},
   "outputs": [
    {
     "name": "stdout",
     "output_type": "stream",
     "text": [
      "Qual a sua idade? 24\n",
      "24 <class 'str'>\n"
     ]
    }
   ],
   "source": [
    "idade = input('Qual a sua idade? ')\n",
    "print(idade, type(idade))"
   ]
  },
  {
   "cell_type": "code",
   "execution_count": 3,
   "id": "37295635",
   "metadata": {},
   "outputs": [
    {
     "name": "stdout",
     "output_type": "stream",
     "text": [
      "Qual a sua idade? 24\n",
      "24 <class 'int'>\n"
     ]
    }
   ],
   "source": [
    "idade1 = int(input('Qual a sua idade? '))\n",
    "print(idade1, type(idade1))"
   ]
  },
  {
   "cell_type": "code",
   "execution_count": 4,
   "id": "f16dfbd5",
   "metadata": {},
   "outputs": [
    {
     "name": "stdout",
     "output_type": "stream",
     "text": [
      "True\n"
     ]
    }
   ],
   "source": [
    "print(bool('123abc'))"
   ]
  },
  {
   "cell_type": "code",
   "execution_count": 7,
   "id": "96676aa7",
   "metadata": {},
   "outputs": [
    {
     "name": "stdout",
     "output_type": "stream",
     "text": [
      "Digite o valor do seu salario mensal: 5000\n",
      "Digite o valor do seu gasto mensal medio: 2000\n",
      "O montante que voce pode economizar ao fim do ano e de R$36000.00.\n"
     ]
    }
   ],
   "source": [
    "salario_mensal = float(input('Digite o valor do seu salario mensal: '))\n",
    "gasto_mensal = float(input('Digite o valor do seu gasto mensal medio: '))\n",
    "salario_total = salario_mensal * 12\n",
    "gasto_mensal = gasto_mensal * 12\n",
    "montante_economizado = salario_total - gasto_mensal\n",
    "print(f'O montante que voce pode economizar ao fim do ano e de R${montante_economizado:.2f}.')"
   ]
  },
  {
   "cell_type": "code",
   "execution_count": null,
   "id": "f8c75b13",
   "metadata": {},
   "outputs": [],
   "source": []
  }
 ],
 "metadata": {
  "kernelspec": {
   "display_name": "Python 3 (ipykernel)",
   "language": "python",
   "name": "python3"
  },
  "language_info": {
   "codemirror_mode": {
    "name": "ipython",
    "version": 3
   },
   "file_extension": ".py",
   "mimetype": "text/x-python",
   "name": "python",
   "nbconvert_exporter": "python",
   "pygments_lexer": "ipython3",
   "version": "3.10.5"
  }
 },
 "nbformat": 4,
 "nbformat_minor": 5
}
