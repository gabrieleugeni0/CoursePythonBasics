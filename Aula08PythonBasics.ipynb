{
 "cells": [
  {
   "cell_type": "code",
   "execution_count": 1,
   "id": "3d6e8224",
   "metadata": {},
   "outputs": [
    {
     "name": "stdout",
     "output_type": "stream",
     "text": [
      "['Brasil', 'Argentina', 'China', 'Canada', 'Japao']\n"
     ]
    }
   ],
   "source": [
    "nomes_paises = ['Brasil', 'Argentina', 'China', 'Canada', 'Japao']\n",
    "print(nomes_paises)"
   ]
  },
  {
   "cell_type": "code",
   "execution_count": 3,
   "id": "928d79d3",
   "metadata": {},
   "outputs": [
    {
     "name": "stdout",
     "output_type": "stream",
     "text": [
      "5\n"
     ]
    }
   ],
   "source": [
    "print(len(nomes_paises))"
   ]
  },
  {
   "cell_type": "code",
   "execution_count": 4,
   "id": "1078d3cc",
   "metadata": {},
   "outputs": [
    {
     "name": "stdout",
     "output_type": "stream",
     "text": [
      "Canada\n"
     ]
    }
   ],
   "source": [
    "print(nomes_paises[3])"
   ]
  },
  {
   "cell_type": "code",
   "execution_count": 5,
   "id": "4263f541",
   "metadata": {},
   "outputs": [
    {
     "name": "stdout",
     "output_type": "stream",
     "text": [
      "Japao\n"
     ]
    }
   ],
   "source": [
    "print(nomes_paises[4])"
   ]
  },
  {
   "cell_type": "code",
   "execution_count": 6,
   "id": "f0437868",
   "metadata": {},
   "outputs": [
    {
     "name": "stdout",
     "output_type": "stream",
     "text": [
      "['Brasil', 'Argentina', 'China', 'Canada', 'Colombia']\n"
     ]
    }
   ],
   "source": [
    "nomes_paises[4] = 'Colombia'\n",
    "print(nomes_paises)"
   ]
  },
  {
   "cell_type": "code",
   "execution_count": 7,
   "id": "0a5e0813",
   "metadata": {},
   "outputs": [],
   "source": [
    "lista_capitais = list()"
   ]
  },
  {
   "cell_type": "code",
   "execution_count": 8,
   "id": "9f9643c2",
   "metadata": {},
   "outputs": [],
   "source": [
    "lista_capitais.append('Brasilia')"
   ]
  },
  {
   "cell_type": "code",
   "execution_count": 9,
   "id": "70f0b04e",
   "metadata": {},
   "outputs": [
    {
     "name": "stdout",
     "output_type": "stream",
     "text": [
      "['Brasilia']\n"
     ]
    }
   ],
   "source": [
    "print(lista_capitais)"
   ]
  },
  {
   "cell_type": "code",
   "execution_count": 10,
   "id": "20747b51",
   "metadata": {},
   "outputs": [],
   "source": [
    "lista_capitais.append('Buenos Aires')"
   ]
  },
  {
   "cell_type": "code",
   "execution_count": 11,
   "id": "333e9256",
   "metadata": {},
   "outputs": [
    {
     "name": "stdout",
     "output_type": "stream",
     "text": [
      "['Brasilia', 'Buenos Aires']\n"
     ]
    }
   ],
   "source": [
    "print(lista_capitais)"
   ]
  },
  {
   "cell_type": "code",
   "execution_count": 13,
   "id": "30d0087b",
   "metadata": {},
   "outputs": [],
   "source": [
    "lista_capitais.insert(1, 'Bogota')"
   ]
  },
  {
   "cell_type": "code",
   "execution_count": 15,
   "id": "cda7875d",
   "metadata": {},
   "outputs": [
    {
     "name": "stdout",
     "output_type": "stream",
     "text": [
      "['Brasilia', 'Bogota', 'Buenos Aires']\n"
     ]
    }
   ],
   "source": [
    "print(lista_capitais)"
   ]
  },
  {
   "cell_type": "code",
   "execution_count": 16,
   "id": "837ae16d",
   "metadata": {},
   "outputs": [
    {
     "name": "stdout",
     "output_type": "stream",
     "text": [
      "('Brasil', 'Argentina', 'China', 'Canada', 'Japao')\n",
      "<class 'tuple'>\n"
     ]
    }
   ],
   "source": [
    "nomes_paises = ('Brasil', 'Argentina', 'China', 'Canada', 'Japao')\n",
    "print(nomes_paises)\n",
    "print(type(nomes_paises))"
   ]
  },
  {
   "cell_type": "code",
   "execution_count": null,
   "id": "815636bd",
   "metadata": {},
   "outputs": [],
   "source": [
    "a, b, c, d, e = nomes_paises\n",
    "print(a, b, c, d)"
   ]
  }
 ],
 "metadata": {
  "kernelspec": {
   "display_name": "Python 3 (ipykernel)",
   "language": "python",
   "name": "python3"
  },
  "language_info": {
   "codemirror_mode": {
    "name": "ipython",
    "version": 3
   },
   "file_extension": ".py",
   "mimetype": "text/x-python",
   "name": "python",
   "nbconvert_exporter": "python",
   "pygments_lexer": "ipython3",
   "version": "3.10.5"
  }
 },
 "nbformat": 4,
 "nbformat_minor": 5
}
