{
 "cells": [
  {
   "cell_type": "code",
   "execution_count": 1,
   "id": "a10c98a9",
   "metadata": {},
   "outputs": [
    {
     "name": "stdout",
     "output_type": "stream",
     "text": [
      "MG/SP/RJ/ES/"
     ]
    }
   ],
   "source": [
    "tupla = ('MG', 'SP', 'RJ', 'ES')\n",
    "for item in tupla:\n",
    "    print(item, end='/')"
   ]
  },
  {
   "cell_type": "code",
   "execution_count": 2,
   "id": "b5be5e99",
   "metadata": {},
   "outputs": [
    {
     "name": "stdout",
     "output_type": "stream",
     "text": [
      "0  :  MG\n",
      "1  :  SP\n",
      "2  :  RJ\n",
      "3  :  ES\n"
     ]
    }
   ],
   "source": [
    "tupla = ('MG', 'SP', 'RJ', 'ES')\n",
    "for posicao, item in enumerate(tupla):\n",
    "    print(posicao, ' : ', item)"
   ]
  },
  {
   "cell_type": "code",
   "execution_count": 4,
   "id": "113e16ca",
   "metadata": {},
   "outputs": [
    {
     "name": "stdout",
     "output_type": "stream",
     "text": [
      "nome : Sao Paulo\n",
      "estado : SP\n",
      "pop : 12.2\n"
     ]
    }
   ],
   "source": [
    "dici = {\n",
    "    'nome' : 'Sao Paulo',\n",
    "    'estado' : 'SP',\n",
    "    'pop' : '12.2'\n",
    "}\n",
    "for chave in dici:\n",
    "    print(f'{chave} : {dici[chave]}')"
   ]
  },
  {
   "cell_type": "code",
   "execution_count": 5,
   "id": "9f272ba7",
   "metadata": {},
   "outputs": [
    {
     "name": "stdout",
     "output_type": "stream",
     "text": [
      "['GO', 'GO', 'GO', 'GO']\n"
     ]
    }
   ],
   "source": [
    "lista = ['MG', 'SP', 'RJ', 'ES']\n",
    "for pos in range(0, len(lista), 1):\n",
    "    lista[pos] = 'GO'\n",
    "print(lista)"
   ]
  },
  {
   "cell_type": "code",
   "execution_count": null,
   "id": "7cc84821",
   "metadata": {},
   "outputs": [],
   "source": [
    " "
   ]
  }
 ],
 "metadata": {
  "kernelspec": {
   "display_name": "Python 3 (ipykernel)",
   "language": "python",
   "name": "python3"
  },
  "language_info": {
   "codemirror_mode": {
    "name": "ipython",
    "version": 3
   },
   "file_extension": ".py",
   "mimetype": "text/x-python",
   "name": "python",
   "nbconvert_exporter": "python",
   "pygments_lexer": "ipython3",
   "version": "3.10.5"
  }
 },
 "nbformat": 4,
 "nbformat_minor": 5
}
