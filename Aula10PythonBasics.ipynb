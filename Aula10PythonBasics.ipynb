{
 "cells": [
  {
   "cell_type": "code",
   "execution_count": 1,
   "id": "4201525f",
   "metadata": {},
   "outputs": [
    {
     "name": "stdout",
     "output_type": "stream",
     "text": [
      "------------------------------\n",
      "GabrielRodrigues\n"
     ]
    }
   ],
   "source": [
    "print('-' * 30)\n",
    "print('Gabriel' + 'Rodrigues')"
   ]
  },
  {
   "cell_type": "code",
   "execution_count": 2,
   "id": "6becaa61",
   "metadata": {},
   "outputs": [],
   "source": [
    "nome = 'Gabriel'\n",
    "idade = 24\n",
    "filhos = 0"
   ]
  },
  {
   "cell_type": "code",
   "execution_count": 4,
   "id": "fd593427",
   "metadata": {},
   "outputs": [
    {
     "name": "stdout",
     "output_type": "stream",
     "text": [
      "Gabriel tem 24 anos de idade e tem 0 filhos.\n",
      "Gabriel tem 24 anos de idade e tem 0 filhos.\n",
      "Gabriel tem 24 anos de idade e tem 0 filhos.\n"
     ]
    }
   ],
   "source": [
    "print(nome + ' tem ' + str(idade) + ' anos de idade e tem ' + str(filhos) + ' filhos.')\n",
    "print('{} tem {} anos de idade e tem {} filhos.'.format(nome, idade, filhos))\n",
    "print(f'{nome} tem {idade} anos de idade e tem {filhos} filhos.')"
   ]
  },
  {
   "cell_type": "code",
   "execution_count": null,
   "id": "48961f1b",
   "metadata": {},
   "outputs": [],
   "source": []
  }
 ],
 "metadata": {
  "kernelspec": {
   "display_name": "Python 3 (ipykernel)",
   "language": "python",
   "name": "python3"
  },
  "language_info": {
   "codemirror_mode": {
    "name": "ipython",
    "version": 3
   },
   "file_extension": ".py",
   "mimetype": "text/x-python",
   "name": "python",
   "nbconvert_exporter": "python",
   "pygments_lexer": "ipython3",
   "version": "3.10.5"
  }
 },
 "nbformat": 4,
 "nbformat_minor": 5
}
