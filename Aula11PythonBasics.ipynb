{
 "cells": [
  {
   "cell_type": "code",
   "execution_count": 2,
   "id": "7000d393",
   "metadata": {},
   "outputs": [],
   "source": [
    "dados = {\n",
    "    'nome' : 'Belo Horizonte',\n",
    "    'estado' : 'MG',\n",
    "    'area' : 500,\n",
    "    'pop' : 3.21\n",
    "}"
   ]
  },
  {
   "cell_type": "code",
   "execution_count": 3,
   "id": "a8b546e7",
   "metadata": {},
   "outputs": [
    {
     "name": "stdout",
     "output_type": "stream",
     "text": [
      "<class 'dict'>\n"
     ]
    }
   ],
   "source": [
    "print(type(dados))"
   ]
  },
  {
   "cell_type": "code",
   "execution_count": 4,
   "id": "403b794b",
   "metadata": {},
   "outputs": [
    {
     "name": "stdout",
     "output_type": "stream",
     "text": [
      "{'nome': 'Belo Horizonte', 'estado': 'MG', 'area': 500, 'pop': 3.21}\n"
     ]
    }
   ],
   "source": [
    "print(dados)"
   ]
  },
  {
   "cell_type": "code",
   "execution_count": 5,
   "id": "7232189f",
   "metadata": {},
   "outputs": [
    {
     "name": "stdout",
     "output_type": "stream",
     "text": [
      "dict_items([('nome', 'Belo Horizonte'), ('estado', 'MG'), ('area', 500), ('pop', 3.21)])\n",
      "dict_keys(['nome', 'estado', 'area', 'pop'])\n",
      "dict_values(['Belo Horizonte', 'MG', 500, 3.21])\n"
     ]
    }
   ],
   "source": [
    "print(dados.items())\n",
    "print(dados.keys())\n",
    "print(dados.values())"
   ]
  },
  {
   "cell_type": "code",
   "execution_count": 6,
   "id": "56c1bf2a",
   "metadata": {},
   "outputs": [],
   "source": [
    "dados['pais'] = 'Brasil'"
   ]
  },
  {
   "cell_type": "code",
   "execution_count": 7,
   "id": "ceb6321c",
   "metadata": {},
   "outputs": [
    {
     "name": "stdout",
     "output_type": "stream",
     "text": [
      "{'nome': 'Belo Horizonte', 'estado': 'MG', 'area': 500, 'pop': 3.21, 'pais': 'Brasil'}\n"
     ]
    }
   ],
   "source": [
    "print(dados)"
   ]
  },
  {
   "cell_type": "code",
   "execution_count": 8,
   "id": "d02175cc",
   "metadata": {},
   "outputs": [],
   "source": [
    "dados2 = dados"
   ]
  },
  {
   "cell_type": "code",
   "execution_count": 9,
   "id": "e87ebfad",
   "metadata": {},
   "outputs": [],
   "source": [
    "dados2['nome'] = 'Sao Paulo'"
   ]
  },
  {
   "cell_type": "code",
   "execution_count": 10,
   "id": "f63cc412",
   "metadata": {},
   "outputs": [
    {
     "name": "stdout",
     "output_type": "stream",
     "text": [
      "{'nome': 'Sao Paulo', 'estado': 'MG', 'area': 500, 'pop': 3.21, 'pais': 'Brasil'}\n",
      "{'nome': 'Sao Paulo', 'estado': 'MG', 'area': 500, 'pop': 3.21, 'pais': 'Brasil'}\n"
     ]
    }
   ],
   "source": [
    "print(dados)\n",
    "print(dados2)"
   ]
  },
  {
   "cell_type": "code",
   "execution_count": 11,
   "id": "07f35c1c",
   "metadata": {},
   "outputs": [],
   "source": [
    "dados['nome'] = 'Belo Horizonte'"
   ]
  },
  {
   "cell_type": "code",
   "execution_count": 12,
   "id": "621a1fb0",
   "metadata": {},
   "outputs": [
    {
     "name": "stdout",
     "output_type": "stream",
     "text": [
      "{'nome': 'Belo Horizonte', 'estado': 'MG', 'area': 500, 'pop': 3.21, 'pais': 'Brasil'}\n",
      "{'nome': 'Belo Horizonte', 'estado': 'MG', 'area': 500, 'pop': 3.21, 'pais': 'Brasil'}\n"
     ]
    }
   ],
   "source": [
    "print(dados)\n",
    "print(dados2)"
   ]
  },
  {
   "cell_type": "code",
   "execution_count": 15,
   "id": "1462e036",
   "metadata": {
    "scrolled": true
   },
   "outputs": [],
   "source": [
    "dados2 = dados.copy()"
   ]
  },
  {
   "cell_type": "code",
   "execution_count": 16,
   "id": "4e1b0d5d",
   "metadata": {},
   "outputs": [],
   "source": [
    "dados2['nome'] = 'cidade teste'"
   ]
  },
  {
   "cell_type": "code",
   "execution_count": 17,
   "id": "745a8e29",
   "metadata": {},
   "outputs": [
    {
     "name": "stdout",
     "output_type": "stream",
     "text": [
      "{'nome': 'Belo Horizonte', 'estado': 'MG', 'area': 500, 'pop': 3.21, 'pais': 'Brasil'}\n",
      "{'nome': 'cidade teste', 'estado': 'MG', 'area': 500, 'pop': 3.21, 'pais': 'Brasil'}\n"
     ]
    }
   ],
   "source": [
    "print(dados)\n",
    "print(dados2)"
   ]
  },
  {
   "cell_type": "code",
   "execution_count": 18,
   "id": "95012a49",
   "metadata": {},
   "outputs": [
    {
     "name": "stdout",
     "output_type": "stream",
     "text": [
      "None\n"
     ]
    }
   ],
   "source": [
    "print(dados.get('prefeito'))"
   ]
  },
  {
   "cell_type": "code",
   "execution_count": 19,
   "id": "bf934d08",
   "metadata": {},
   "outputs": [
    {
     "name": "stdout",
     "output_type": "stream",
     "text": [
      "3.21\n"
     ]
    }
   ],
   "source": [
    "print(dados.get('pop'))"
   ]
  },
  {
   "cell_type": "code",
   "execution_count": null,
   "id": "aa84b112",
   "metadata": {},
   "outputs": [],
   "source": []
  }
 ],
 "metadata": {
  "kernelspec": {
   "display_name": "Python 3 (ipykernel)",
   "language": "python",
   "name": "python3"
  },
  "language_info": {
   "codemirror_mode": {
    "name": "ipython",
    "version": 3
   },
   "file_extension": ".py",
   "mimetype": "text/x-python",
   "name": "python",
   "nbconvert_exporter": "python",
   "pygments_lexer": "ipython3",
   "version": "3.10.5"
  }
 },
 "nbformat": 4,
 "nbformat_minor": 5
}
