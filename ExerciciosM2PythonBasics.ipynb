{
 "cells": [
  {
   "cell_type": "code",
   "execution_count": 3,
   "id": "1a1d384e",
   "metadata": {
    "scrolled": true
   },
   "outputs": [
    {
     "name": "stdout",
     "output_type": "stream",
     "text": [
      "A lista contem 13 valores no total, sendo que 6 sao pares e a soma dos mesmos vale 70.\n"
     ]
    }
   ],
   "source": [
    "lista = [1, 4, 7, 1, 4, 5, 7, 10, 11, 14, 19, 16, 22]\n",
    "cont = 0\n",
    "soma = 0\n",
    "for valor in lista:\n",
    "    if valor % 2 == 0:\n",
    "        cont += 1\n",
    "        soma += valor\n",
    "print(f'A lista contem {len(lista)} valores no total, sendo que {cont} sao pares e a soma dos mesmos vale {soma}.')"
   ]
  },
  {
   "cell_type": "code",
   "execution_count": 4,
   "id": "eecb66c1",
   "metadata": {},
   "outputs": [
    {
     "name": "stdout",
     "output_type": "stream",
     "text": [
      "Digite uma palavra: teste\n",
      "t\n",
      "e\n",
      "s\n",
      "t\n",
      "e\n"
     ]
    }
   ],
   "source": [
    "palavra = str(input('Digite uma palavra: ')).strip()\n",
    "for letra in palavra:\n",
    "    print(letra)"
   ]
  },
  {
   "cell_type": "code",
   "execution_count": 11,
   "id": "6791fe06",
   "metadata": {},
   "outputs": [],
   "source": [
    "def somalista(lista1=[0,0,0], lista2=[0,0,0]):\n",
    "    print('[', end='')\n",
    "    for c in range(0, 3):\n",
    "        print(f'{lista1[c]}+{lista2[c]}', end='')\n",
    "        if c < 2:\n",
    "            print(',', end='')\n",
    "    print('] = ', end='')\n",
    "    print('[', end='')\n",
    "    for c in range(0, 3):\n",
    "        print(f'{lista1[c]+lista2[c]}', end='')\n",
    "        if c < 2:\n",
    "            print(',', end='')\n",
    "    print(']', end='')"
   ]
  },
  {
   "cell_type": "code",
   "execution_count": 12,
   "id": "db649793",
   "metadata": {},
   "outputs": [
    {
     "name": "stdout",
     "output_type": "stream",
     "text": [
      "[1+3,4+5,3+1] = [4,9,4]"
     ]
    }
   ],
   "source": [
    "somalista([1,4,3],[3,5,1])"
   ]
  },
  {
   "cell_type": "code",
   "execution_count": 13,
   "id": "46b2a303",
   "metadata": {},
   "outputs": [],
   "source": [
    "dicionario = {'janeiro':31, 'fevereiro':28, 'marco':31, 'abril':30, 'maio':31, 'junho':30, 'julho':31, 'agosto':31, 'setembro':30, 'outubro':31, 'novembro':30, 'dezembro':31, }"
   ]
  },
  {
   "cell_type": "code",
   "execution_count": null,
   "id": "ce300e24",
   "metadata": {},
   "outputs": [],
   "source": [
    "for key, item in dicionario.items()"
   ]
  }
 ],
 "metadata": {
  "kernelspec": {
   "display_name": "Python 3 (ipykernel)",
   "language": "python",
   "name": "python3"
  },
  "language_info": {
   "codemirror_mode": {
    "name": "ipython",
    "version": 3
   },
   "file_extension": ".py",
   "mimetype": "text/x-python",
   "name": "python",
   "nbconvert_exporter": "python",
   "pygments_lexer": "ipython3",
   "version": "3.10.5"
  }
 },
 "nbformat": 4,
 "nbformat_minor": 5
}
