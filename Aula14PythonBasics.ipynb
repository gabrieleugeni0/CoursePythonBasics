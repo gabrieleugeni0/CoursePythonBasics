{
 "cells": [
  {
   "cell_type": "code",
   "execution_count": 9,
   "id": "c7aed97b",
   "metadata": {},
   "outputs": [],
   "source": [
    "def calcula_media(*args, margem=0): \n",
    "    return (sum(args) / len(args)) + margem"
   ]
  },
  {
   "cell_type": "code",
   "execution_count": 10,
   "id": "50d006e3",
   "metadata": {},
   "outputs": [
    {
     "data": {
      "text/plain": [
       "3.0"
      ]
     },
     "execution_count": 10,
     "metadata": {},
     "output_type": "execute_result"
    }
   ],
   "source": [
    "calcula_media(1,2,3,4,5)"
   ]
  },
  {
   "cell_type": "code",
   "execution_count": 12,
   "id": "ec692e84",
   "metadata": {},
   "outputs": [
    {
     "data": {
      "text/plain": [
       "3.3"
      ]
     },
     "execution_count": 12,
     "metadata": {},
     "output_type": "execute_result"
    }
   ],
   "source": [
    "calcula_media(1,2,3,4,5,margem=0.3)"
   ]
  },
  {
   "cell_type": "code",
   "execution_count": 13,
   "id": "a0ef2a54",
   "metadata": {},
   "outputs": [],
   "source": [
    "def print_info(**kwargs):\n",
    "    print(kwargs, type(kwargs))"
   ]
  },
  {
   "cell_type": "code",
   "execution_count": 14,
   "id": "91520e79",
   "metadata": {},
   "outputs": [
    {
     "name": "stdout",
     "output_type": "stream",
     "text": [
      "{'nome': 'Pietro', 'sobrenome': 'Ribeiro'} <class 'dict'>\n"
     ]
    }
   ],
   "source": [
    "print_info(nome='Pietro', sobrenome='Ribeiro')"
   ]
  },
  {
   "cell_type": "code",
   "execution_count": null,
   "id": "50b325b0",
   "metadata": {},
   "outputs": [],
   "source": []
  }
 ],
 "metadata": {
  "kernelspec": {
   "display_name": "Python 3 (ipykernel)",
   "language": "python",
   "name": "python3"
  },
  "language_info": {
   "codemirror_mode": {
    "name": "ipython",
    "version": 3
   },
   "file_extension": ".py",
   "mimetype": "text/x-python",
   "name": "python",
   "nbconvert_exporter": "python",
   "pygments_lexer": "ipython3",
   "version": "3.10.5"
  }
 },
 "nbformat": 4,
 "nbformat_minor": 5
}
