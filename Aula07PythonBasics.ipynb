{
 "cells": [
  {
   "cell_type": "code",
   "execution_count": 1,
   "id": "f54728cf",
   "metadata": {},
   "outputs": [
    {
     "name": "stdout",
     "output_type": "stream",
     "text": [
      "1 item limpo.\n",
      "2 itens limpos.\n",
      "3 itens limpos.\n",
      "4 itens limpos.\n",
      "5 itens limpos.\n",
      "6 itens limpos.\n",
      "7 itens limpos.\n",
      "8 itens limpos.\n",
      "9 itens limpos.\n",
      "10 itens limpos.\n",
      "FIM DA EXECUÇÃO\n"
     ]
    }
   ],
   "source": [
    "contador = 0\n",
    "while contador < 10:\n",
    "    contador = contador + 1\n",
    "    if contador == 1:\n",
    "        print(contador, 'item limpo.')\n",
    "    else:\n",
    "        print(contador, 'itens limpos.')\n",
    "print('FIM DA EXECUÇÃO')"
   ]
  },
  {
   "cell_type": "code",
   "execution_count": 2,
   "id": "afd2cc7d",
   "metadata": {},
   "outputs": [
    {
     "name": "stdout",
     "output_type": "stream",
     "text": [
      "1 item limpo.\n",
      "2 itens limpos.\n",
      "FIM DA EXECUÇÃO\n"
     ]
    }
   ],
   "source": [
    "contador = 0\n",
    "while True:\n",
    "    if contador < 10:\n",
    "        contador = contador + 1\n",
    "    if contador == 1:\n",
    "        print(contador, 'item limpo.')\n",
    "    else:\n",
    "        print(contador, 'itens limpos.')\n",
    "        break\n",
    "print('FIM DA EXECUÇÃO')"
   ]
  },
  {
   "cell_type": "code",
   "execution_count": 5,
   "id": "3b376f7a",
   "metadata": {},
   "outputs": [
    {
     "name": "stdout",
     "output_type": "stream",
     "text": [
      "1 item limpo.\n",
      "2 itens limpos.\n",
      "3 itens limpos.\n",
      "4 itens limpos.\n",
      "5 itens limpos.\n",
      "6 itens limpos.\n",
      "7 itens limpos.\n",
      "8 itens limpos.\n",
      "9 itens limpos.\n",
      "10 itens limpos.\n",
      "FIM DA EXECUÇÃO\n"
     ]
    }
   ],
   "source": [
    "contador = 0\n",
    "while True:\n",
    "    if contador < 10:\n",
    "        contador = contador + 1\n",
    "        if contador == 1:\n",
    "            print(contador, 'item limpo.')\n",
    "        else:\n",
    "            print(contador, 'itens limpos.')\n",
    "    else:\n",
    "        break\n",
    "print('FIM DA EXECUÇÃO')"
   ]
  },
  {
   "cell_type": "code",
   "execution_count": 6,
   "id": "09e984a1",
   "metadata": {},
   "outputs": [
    {
     "name": "stdout",
     "output_type": "stream",
     "text": [
      "1\n",
      "2\n",
      "3\n",
      "4\n",
      "5\n",
      "6\n",
      "7\n",
      "8\n",
      "9\n",
      "10\n",
      "11\n"
     ]
    }
   ],
   "source": [
    "contador = 0\n",
    "while True:\n",
    "    contador += 1\n",
    "    print(contador)\n",
    "    if contador == 11:\n",
    "        break"
   ]
  },
  {
   "cell_type": "code",
   "execution_count": 7,
   "id": "59deb94a",
   "metadata": {},
   "outputs": [
    {
     "name": "stdout",
     "output_type": "stream",
     "text": [
      "1\n",
      "2\n",
      "3\n",
      "4\n",
      "5\n",
      "6\n",
      "7\n",
      "8\n",
      "9\n",
      "10\n"
     ]
    }
   ],
   "source": [
    "contador = 0\n",
    "while True:\n",
    "    contador += 1\n",
    "    if contador == 11:\n",
    "        break\n",
    "    print(contador)"
   ]
  },
  {
   "cell_type": "code",
   "execution_count": 8,
   "id": "aafedfa8",
   "metadata": {},
   "outputs": [
    {
     "name": "stdout",
     "output_type": "stream",
     "text": [
      "Quer continuar? [S/N] 1\n",
      "OPCAO INVALIDA!\n",
      "Quer continuar? [S/N] 2\n",
      "OPCAO INVALIDA!\n",
      "Quer continuar? [S/N] a\n",
      "OPCAO INVALIDA!\n",
      "Quer continuar? [S/N] b\n",
      "OPCAO INVALIDA!\n",
      "Quer continuar? [S/N] s\n"
     ]
    }
   ],
   "source": [
    "while True:\n",
    "    resp = str(input('Quer continuar? [S/N] ')).strip().upper()[0]\n",
    "    if resp not in 'SN':\n",
    "        print('OPCAO INVALIDA!')\n",
    "    else:\n",
    "        break"
   ]
  },
  {
   "cell_type": "code",
   "execution_count": 10,
   "id": "a1055c3b",
   "metadata": {},
   "outputs": [
    {
     "name": "stdout",
     "output_type": "stream",
     "text": [
      "Digite a sua senha: as\n",
      "Senha invalida. Digite a sua senha: 1\n",
      "Senha invalida. Digite a sua senha: LetsCode\n",
      "Acesso permitido!\n"
     ]
    }
   ],
   "source": [
    "txt = input('Digite a sua senha: ')\n",
    "while txt != 'LetsCode':\n",
    "    txt = input('Senha invalida. Digite a sua senha: ')\n",
    "print('Acesso permitido!')"
   ]
  },
  {
   "cell_type": "code",
   "execution_count": 13,
   "id": "a9540ec4",
   "metadata": {},
   "outputs": [
    {
     "name": "stdout",
     "output_type": "stream",
     "text": [
      "2 itens limpos.\n",
      "3 itens limpos.\n",
      "4 itens limpos.\n",
      "5 itens limpos.\n",
      "6 itens limpos.\n",
      "7 itens limpos.\n",
      "8 itens limpos.\n",
      "9 itens limpos.\n",
      "10 itens limpos.\n",
      "FIM DA EXECUÇÃO\n"
     ]
    }
   ],
   "source": [
    "contador = 0\n",
    "while contador < 10:\n",
    "    contador = contador + 1\n",
    "    if contador == 1:\n",
    "        continue\n",
    "    print(contador, 'itens limpos.')\n",
    "print('FIM DA EXECUÇÃO')"
   ]
  },
  {
   "cell_type": "code",
   "execution_count": null,
   "id": "b60ffa7d",
   "metadata": {},
   "outputs": [],
   "source": []
  }
 ],
 "metadata": {
  "kernelspec": {
   "display_name": "Python 3 (ipykernel)",
   "language": "python",
   "name": "python3"
  },
  "language_info": {
   "codemirror_mode": {
    "name": "ipython",
    "version": 3
   },
   "file_extension": ".py",
   "mimetype": "text/x-python",
   "name": "python",
   "nbconvert_exporter": "python",
   "pygments_lexer": "ipython3",
   "version": "3.10.5"
  }
 },
 "nbformat": 4,
 "nbformat_minor": 5
}
