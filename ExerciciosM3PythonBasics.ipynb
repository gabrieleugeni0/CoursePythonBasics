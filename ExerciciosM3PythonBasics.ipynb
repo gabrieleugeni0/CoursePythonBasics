{
 "cells": [
  {
   "cell_type": "code",
   "execution_count": 5,
   "id": "8031078e",
   "metadata": {
    "scrolled": true
   },
   "outputs": [
    {
     "name": "stdout",
     "output_type": "stream",
     "text": [
      "['RA', 'Nome', 'Frequencia', 'Prova_1', 'Prova_2', 'Prova_3', 'Prova_4']\n",
      "['110201', 'Antonio Carlos', '20', '6.5', '8.5', '7', '6']\n",
      "['110212', 'Ana Beatriz', '20', '7', '7', '7', '8']\n",
      "['110218', 'Carlos Vernes', '17', '7', '7', '7', '7']\n",
      "['110307', 'Francisco Cunha', '20', '9', '8.5', '8.5', '10']\n",
      "['110275', 'Sandra Rosa', '15', '6.5', '7.5', '7', '7']\n",
      "['110281', 'Juliana Arruda', '18', '7.5', '7', '7.5', '8']\n",
      "['110301', 'Joao Galo', '20', '5', '6.5', '7', '5']\n",
      "['110263', 'JosÃ© Valente', '20', '10', '10', '10', '10']\n",
      "['110271', 'Maria Ferreira', '19', '9.5', '8', '7', '10']\n",
      "['110236', 'Adriana Tavares', '20', '8', '8', '8', '8']\n"
     ]
    }
   ],
   "source": [
    "import csv\n",
    "with open('alunos.csv', 'r') as alunos:\n",
    "    leitor = csv.reader(alunos)\n",
    "    for linha in leitor:\n",
    "        print(linha)"
   ]
  },
  {
   "cell_type": "code",
   "execution_count": 8,
   "id": "2af9ee78",
   "metadata": {},
   "outputs": [
    {
     "name": "stdout",
     "output_type": "stream",
     "text": [
      "['RA', 'Nome', 'Frequencia', 'Prova_1', 'Prova_2', 'Prova_3', 'Prova_4']\n",
      "['110201', 'Antonio Carlos', '20', '6.5', '8.5', '7', '6']\n",
      "['110212', 'Ana Beatriz', '20', '7', '7', '7', '8']\n",
      "['110218', 'Carlos Vernes', '17', '7', '7', '7', '7']\n",
      "['110307', 'Francisco Cunha', '20', '9', '8.5', '8.5', '10']\n",
      "['110275', 'Sandra Rosa', '15', '6.5', '7.5', '7', '7']\n",
      "['110281', 'Juliana Arruda', '18', '7.5', '7', '7.5', '8']\n",
      "['110301', 'Joao Galo', '20', '5', '6.5', '7', '5']\n",
      "['110263', 'JosÃ© Valente', '20', '10', '10', '10', '10']\n",
      "['110271', 'Maria Ferreira', '19', '9.5', '8', '7', '10']\n",
      "['110236', 'Adriana Tavares', '20', '8', '8', '8', '8']\n"
     ]
    }
   ],
   "source": [
    "import csv\n",
    "alunos = open('alunos.csv', 'r')\n",
    "leitor = csv.reader(alunos)\n",
    "with open('alunos_copia.csv', 'w', newline='') as copia:\n",
    "    escritor = csv.writer(copia)\n",
    "    escritor.writerows(leitor)\n",
    "alunos.close()\n",
    "with open('alunos_copia.csv', 'r') as alunos:\n",
    "    leitor = csv.reader(alunos)\n",
    "    for linha2 in leitor:\n",
    "        print(linha2)"
   ]
  },
  {
   "cell_type": "code",
   "execution_count": 24,
   "id": "fa19bc95",
   "metadata": {
    "scrolled": true
   },
   "outputs": [
    {
     "name": "stdout",
     "output_type": "stream",
     "text": [
      "['RA', 'Nome', 'Frequencia', 'Prova_1', 'Prova_2', 'Prova_3', 'Prova_4', 'Media']\n",
      "['110201', 'Antonio Carlos', '20', '6.5', '8.5', '7', '6', '7.0']\n",
      "['110212', 'Ana Beatriz', '20', '7', '7', '7', '8', '7.25']\n",
      "['110218', 'Carlos Vernes', '17', '7', '7', '7', '7', '7.0']\n",
      "['110307', 'Francisco Cunha', '20', '9', '8.5', '8.5', '10', '9.0']\n",
      "['110275', 'Sandra Rosa', '15', '6.5', '7.5', '7', '7', '7.0']\n",
      "['110281', 'Juliana Arruda', '18', '7.5', '7', '7.5', '8', '7.5']\n",
      "['110301', 'Joao Galo', '20', '5', '6.5', '7', '5', '5.875']\n",
      "['110263', 'JosÃ© Valente', '20', '10', '10', '10', '10', '10.0']\n",
      "['110271', 'Maria Ferreira', '19', '9.5', '8', '7', '10', '8.625']\n",
      "['110236', 'Adriana Tavares', '20', '8', '8', '8', '8', '8.0']\n"
     ]
    }
   ],
   "source": [
    "import csv\n",
    "alunos = open('alunos.csv', 'r')\n",
    "leitor = csv.reader(alunos)\n",
    "with open('alunos_media.csv', 'w', newline='') as copia:\n",
    "    escritor = csv.writer(copia)\n",
    "    for linha in leitor:\n",
    "        if linha[0] == 'RA':\n",
    "            escritor.writerow(linha+['Media'])\n",
    "        else:\n",
    "            media = (float(linha[3])+float(linha[4])+float(linha[5])+float(linha[6]))/4\n",
    "            escritor.writerow(linha+[media])\n",
    "alunos.close()\n",
    "with open('alunos_media.csv', 'r') as alunos:\n",
    "    leitor = csv.reader(alunos)\n",
    "    for linha in leitor:\n",
    "        print(linha)"
   ]
  },
  {
   "cell_type": "code",
   "execution_count": 32,
   "id": "0232cad1",
   "metadata": {},
   "outputs": [
    {
     "name": "stdout",
     "output_type": "stream",
     "text": [
      "{'name': 'Darth Vader', 'height': '202', 'mass': '136', 'hair_color': 'none', 'skin_color': 'white', 'eye_color': 'yellow', 'birth_year': '41.9BBY', 'gender': 'male', 'homeworld': 'https://swapi.dev/api/planets/1/', 'films': ['https://swapi.dev/api/films/1/', 'https://swapi.dev/api/films/2/', 'https://swapi.dev/api/films/3/', 'https://swapi.dev/api/films/6/'], 'species': [], 'vehicles': [], 'starships': ['https://swapi.dev/api/starships/13/'], 'created': '2014-12-10T15:18:20.704000Z', 'edited': '2014-12-20T21:17:50.313000Z', 'url': 'https://swapi.dev/api/people/4/'}\n",
      "----------------------------------------\n",
      "NOME: Darth Vader\n",
      "ALTURA: 202cm\n",
      "MASSA: 136kg\n",
      "ANO DE NASCIMENTO: 41.9BBY\n"
     ]
    }
   ],
   "source": [
    "import requests\n",
    "\n",
    "url = 'https://swapi.dev/api/people/4'\n",
    "requisicao = requests.get(url)\n",
    "dados = requisicao.json()\n",
    "print(dados)\n",
    "print('-'*40)\n",
    "print('NOME: {}\\nALTURA: {}cm\\nMASSA: {}kg\\nANO DE NASCIMENTO: {}'.format(dados['name'], dados['height'], dados['mass'], dados['birth_year']))"
   ]
  },
  {
   "cell_type": "code",
   "execution_count": 39,
   "id": "27bc4619",
   "metadata": {},
   "outputs": [
    {
     "name": "stdout",
     "output_type": "stream",
     "text": [
      "O primeiro caso de COVID-19 confirmado no Brasil foi em 2020/02/26T00:00:00Z\n"
     ]
    }
   ],
   "source": [
    "url = 'https://api.covid19api.com/country/brazil'\n",
    "requisicao = requests.get(url)\n",
    "lista_dados = requisicao.json()\n",
    "for dicionario in lista_dados:\n",
    "    if dicionario['Confirmed'] > 0:\n",
    "        print('O primeiro caso de COVID-19 confirmado no Brasil foi em {}'.format(dicionario['Date'].replace('-', '/')))\n",
    "        break"
   ]
  },
  {
   "cell_type": "code",
   "execution_count": null,
   "id": "7ba76e2f",
   "metadata": {},
   "outputs": [],
   "source": []
  }
 ],
 "metadata": {
  "kernelspec": {
   "display_name": "Python 3 (ipykernel)",
   "language": "python",
   "name": "python3"
  },
  "language_info": {
   "codemirror_mode": {
    "name": "ipython",
    "version": 3
   },
   "file_extension": ".py",
   "mimetype": "text/x-python",
   "name": "python",
   "nbconvert_exporter": "python",
   "pygments_lexer": "ipython3",
   "version": "3.10.5"
  }
 },
 "nbformat": 4,
 "nbformat_minor": 5
}
